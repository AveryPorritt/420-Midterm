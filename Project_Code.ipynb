{
 "cells": [
  {
   "cell_type": "markdown",
   "metadata": {},
   "source": [
    "## Part 1\n",
    "\n",
    "Download the ``names.zip`` file and unzip onto your computer. When you unzip the file, you should have a directory called ``names`` with one ``.txt`` file for each year from 1880 - 2019.  Run the following code to put all the files together into one dataset.  "
   ]
  },
  {
   "cell_type": "code",
   "execution_count": 2,
   "metadata": {},
   "outputs": [],
   "source": [
    "import pandas as pd\n",
    "import numpy as np\n",
    "import matplotlib.pyplot as plt\n",
    "import seaborn as sns"
   ]
  },
  {
   "cell_type": "code",
   "execution_count": 3,
   "metadata": {},
   "outputs": [],
   "source": [
    "import os\n",
    "import re"
   ]
  },
  {
   "cell_type": "code",
   "execution_count": 4,
   "metadata": {},
   "outputs": [],
   "source": [
    "# this gets the list of files in the \"names\" directory and makes a list of only .txt files\n",
    "directory = 'C:/Users/mporr/OneDrive/Desktop/exam1-AveryPorritt/names/'\n",
    "# update this path as needed\n",
    "\n",
    "files = os.listdir(directory)\n",
    "file_list = [f for f in files if f[-3:] == 'txt']"
   ]
  },
  {
   "cell_type": "code",
   "execution_count": 34,
   "metadata": {},
   "outputs": [],
   "source": [
    "df = pd.DataFrame()\n",
    "for f in file_list:\n",
    "    file_name = directory + f\n",
    "    dat = pd.read_csv(file_name, header=None)\n",
    "    dat['year'] = int(re.findall('\\d+', f)[0])\n",
    "    df = pd.concat([df, dat])\n",
    "df.columns = ['name','gender','n','year']\n",
    "df = df.sort_values(by=['year','gender','n'], ascending=[1,1,0])"
   ]
  },
  {
   "cell_type": "code",
   "execution_count": 6,
   "metadata": {},
   "outputs": [
    {
     "data": {
      "text/html": [
       "<div>\n",
       "<style scoped>\n",
       "    .dataframe tbody tr th:only-of-type {\n",
       "        vertical-align: middle;\n",
       "    }\n",
       "\n",
       "    .dataframe tbody tr th {\n",
       "        vertical-align: top;\n",
       "    }\n",
       "\n",
       "    .dataframe thead th {\n",
       "        text-align: right;\n",
       "    }\n",
       "</style>\n",
       "<table border=\"1\" class=\"dataframe\">\n",
       "  <thead>\n",
       "    <tr style=\"text-align: right;\">\n",
       "      <th></th>\n",
       "      <th>name</th>\n",
       "      <th>gender</th>\n",
       "      <th>n</th>\n",
       "      <th>year</th>\n",
       "    </tr>\n",
       "  </thead>\n",
       "  <tbody>\n",
       "    <tr>\n",
       "      <th>0</th>\n",
       "      <td>Mary</td>\n",
       "      <td>F</td>\n",
       "      <td>7065</td>\n",
       "      <td>1880</td>\n",
       "    </tr>\n",
       "    <tr>\n",
       "      <th>1</th>\n",
       "      <td>Anna</td>\n",
       "      <td>F</td>\n",
       "      <td>2604</td>\n",
       "      <td>1880</td>\n",
       "    </tr>\n",
       "    <tr>\n",
       "      <th>2</th>\n",
       "      <td>Emma</td>\n",
       "      <td>F</td>\n",
       "      <td>2003</td>\n",
       "      <td>1880</td>\n",
       "    </tr>\n",
       "    <tr>\n",
       "      <th>3</th>\n",
       "      <td>Elizabeth</td>\n",
       "      <td>F</td>\n",
       "      <td>1939</td>\n",
       "      <td>1880</td>\n",
       "    </tr>\n",
       "    <tr>\n",
       "      <th>4</th>\n",
       "      <td>Minnie</td>\n",
       "      <td>F</td>\n",
       "      <td>1746</td>\n",
       "      <td>1880</td>\n",
       "    </tr>\n",
       "  </tbody>\n",
       "</table>\n",
       "</div>"
      ],
      "text/plain": [
       "        name gender     n  year\n",
       "0       Mary      F  7065  1880\n",
       "1       Anna      F  2604  1880\n",
       "2       Emma      F  2003  1880\n",
       "3  Elizabeth      F  1939  1880\n",
       "4     Minnie      F  1746  1880"
      ]
     },
     "execution_count": 6,
     "metadata": {},
     "output_type": "execute_result"
    }
   ],
   "source": [
    "df.head()"
   ]
  },
  {
   "cell_type": "code",
   "execution_count": 7,
   "metadata": {},
   "outputs": [
    {
     "data": {
      "text/html": [
       "<div>\n",
       "<style scoped>\n",
       "    .dataframe tbody tr th:only-of-type {\n",
       "        vertical-align: middle;\n",
       "    }\n",
       "\n",
       "    .dataframe tbody tr th {\n",
       "        vertical-align: top;\n",
       "    }\n",
       "\n",
       "    .dataframe thead th {\n",
       "        text-align: right;\n",
       "    }\n",
       "</style>\n",
       "<table border=\"1\" class=\"dataframe\">\n",
       "  <thead>\n",
       "    <tr style=\"text-align: right;\">\n",
       "      <th></th>\n",
       "      <th>name</th>\n",
       "      <th>gender</th>\n",
       "      <th>n</th>\n",
       "      <th>year</th>\n",
       "    </tr>\n",
       "  </thead>\n",
       "  <tbody>\n",
       "    <tr>\n",
       "      <th>31949</th>\n",
       "      <td>Zyheem</td>\n",
       "      <td>M</td>\n",
       "      <td>5</td>\n",
       "      <td>2019</td>\n",
       "    </tr>\n",
       "    <tr>\n",
       "      <th>31950</th>\n",
       "      <td>Zykel</td>\n",
       "      <td>M</td>\n",
       "      <td>5</td>\n",
       "      <td>2019</td>\n",
       "    </tr>\n",
       "    <tr>\n",
       "      <th>31951</th>\n",
       "      <td>Zyking</td>\n",
       "      <td>M</td>\n",
       "      <td>5</td>\n",
       "      <td>2019</td>\n",
       "    </tr>\n",
       "    <tr>\n",
       "      <th>31952</th>\n",
       "      <td>Zyn</td>\n",
       "      <td>M</td>\n",
       "      <td>5</td>\n",
       "      <td>2019</td>\n",
       "    </tr>\n",
       "    <tr>\n",
       "      <th>31953</th>\n",
       "      <td>Zyran</td>\n",
       "      <td>M</td>\n",
       "      <td>5</td>\n",
       "      <td>2019</td>\n",
       "    </tr>\n",
       "  </tbody>\n",
       "</table>\n",
       "</div>"
      ],
      "text/plain": [
       "         name gender  n  year\n",
       "31949  Zyheem      M  5  2019\n",
       "31950   Zykel      M  5  2019\n",
       "31951  Zyking      M  5  2019\n",
       "31952     Zyn      M  5  2019\n",
       "31953   Zyran      M  5  2019"
      ]
     },
     "execution_count": 7,
     "metadata": {},
     "output_type": "execute_result"
    }
   ],
   "source": [
    "df.tail()"
   ]
  },
  {
   "cell_type": "code",
   "execution_count": 23,
   "metadata": {},
   "outputs": [],
   "source": [
    "# save the completed dataset if you want:\n",
    "df.to_csv('names.csv', index=False)"
   ]
  },
  {
   "cell_type": "code",
   "execution_count": 8,
   "metadata": {},
   "outputs": [],
   "source": [
    "# url for problem 1\n",
    "url1 = 'https://www.ssa.gov/oact/babynames/numberUSbirths.html'"
   ]
  },
  {
   "cell_type": "code",
   "execution_count": 40,
   "metadata": {},
   "outputs": [
    {
     "data": {
      "text/html": [
       "<div>\n",
       "<style scoped>\n",
       "    .dataframe tbody tr th:only-of-type {\n",
       "        vertical-align: middle;\n",
       "    }\n",
       "\n",
       "    .dataframe tbody tr th {\n",
       "        vertical-align: top;\n",
       "    }\n",
       "\n",
       "    .dataframe thead th {\n",
       "        text-align: right;\n",
       "    }\n",
       "</style>\n",
       "<table border=\"1\" class=\"dataframe\">\n",
       "  <thead>\n",
       "    <tr style=\"text-align: right;\">\n",
       "      <th></th>\n",
       "      <th>year</th>\n",
       "      <th>m</th>\n",
       "      <th>f</th>\n",
       "      <th>total</th>\n",
       "    </tr>\n",
       "  </thead>\n",
       "  <tbody>\n",
       "    <tr>\n",
       "      <th>0</th>\n",
       "      <td>1880</td>\n",
       "      <td>118399</td>\n",
       "      <td>97606</td>\n",
       "      <td>216005</td>\n",
       "    </tr>\n",
       "    <tr>\n",
       "      <th>1</th>\n",
       "      <td>1881</td>\n",
       "      <td>108282</td>\n",
       "      <td>98855</td>\n",
       "      <td>207137</td>\n",
       "    </tr>\n",
       "    <tr>\n",
       "      <th>2</th>\n",
       "      <td>1882</td>\n",
       "      <td>122031</td>\n",
       "      <td>115695</td>\n",
       "      <td>237726</td>\n",
       "    </tr>\n",
       "    <tr>\n",
       "      <th>3</th>\n",
       "      <td>1883</td>\n",
       "      <td>112475</td>\n",
       "      <td>120059</td>\n",
       "      <td>232534</td>\n",
       "    </tr>\n",
       "    <tr>\n",
       "      <th>4</th>\n",
       "      <td>1884</td>\n",
       "      <td>122738</td>\n",
       "      <td>137585</td>\n",
       "      <td>260323</td>\n",
       "    </tr>\n",
       "  </tbody>\n",
       "</table>\n",
       "</div>"
      ],
      "text/plain": [
       "   year       m       f   total\n",
       "0  1880  118399   97606  216005\n",
       "1  1881  108282   98855  207137\n",
       "2  1882  122031  115695  237726\n",
       "3  1883  112475  120059  232534\n",
       "4  1884  122738  137585  260323"
      ]
     },
     "execution_count": 40,
     "metadata": {},
     "output_type": "execute_result"
    }
   ],
   "source": [
    "#Problem 1\n",
    "#Join tables into a temp df, then use np.where to calculate the values to insert\n",
    "#into the original df\n",
    "\n",
    "num_births = pd.read_html(url1)[0]\n",
    "num_births.columns = ['year', 'm', 'f', 'total']\n",
    "num_births.head()\n",
    "df_temp = df.merge(num_births, left_on='year', right_on='year')\n",
    "df['prop'] = np.where('gender' == 'M', df_temp['n']/df_temp['m'], df_temp['n']/df_temp['f'])\n",
    "\n",
    "df.head()\n",
    "df.tail()"
   ]
  },
  {
   "cell_type": "code",
   "execution_count": 70,
   "metadata": {
    "scrolled": true
   },
   "outputs": [],
   "source": [
    "#Problem 2\n",
    "\n",
    "def plotName(name = \"\", var = \"prop\"):\n",
    "    if(name == \"\"):\n",
    "        print(\"You must enter a valid name.\")\n",
    "        return\n",
    "    elif(name not in df['name'].tolist()):\n",
    "        print(\"Name not found in database.\")\n",
    "        return\n",
    "    if(var not in [\"n\", \"prop\"]):\n",
    "        print(\"Must use valid graphing designation, \"\"n\"\" or \"\"prop\"\"\")\n",
    "    names = df.loc[df['name'] == name]\n",
    "    male_names = names.loc[names['gender'] == 'M']\n",
    "    female_names = names.loc[names['gender'] == 'F']\n",
    "    earliest_year = min(names['year'])\n",
    "    latest_year = max(names['year'])\n",
    "    years_used = len(pd.unique(names['year']))\n",
    "    if(var == \"prop\"):\n",
    "        plt.plot(male_names['year'], male_names['n'], color='Blue', label='M')\n",
    "        plt.plot(female_names['year'], female_names['n'], color='Red', label='F')\n",
    "        plt.ylabel('Frequency')\n",
    "    else:\n",
    "        plt.plot(male_names['year'], male_names['prop'], color='Blue', label='M')\n",
    "        plt.plot(female_names['year'], female_names['prop'], color='Red', label='F')\n",
    "        plt.ylabel('Proportion')\n",
    "    plt.title(name + \" (\" + str(earliest_year) + \"-\" + str(latest_year) + \") (Used in \" + str(years_used) + \" years)\")\n",
    "    plt.xlabel('Year')\n",
    "    plt.legend()\n",
    "    plt.show()"
   ]
  },
  {
   "cell_type": "code",
   "execution_count": 96,
   "metadata": {},
   "outputs": [
    {
     "data": {
      "image/png": "[encoded data removed]",
      "text/plain": [
       "<Figure size 432x288 with 1 Axes>"
      ]
     },
     "metadata": {
      "needs_background": "light"
     },
     "output_type": "display_data"
    },
    {
     "data": {
      "image/png": "[encoded data removed]",
      "text/plain": [
       "<Figure size 432x288 with 1 Axes>"
      ]
     },
     "metadata": {
      "needs_background": "light"
     },
     "output_type": "display_data"
    }
   ],
   "source": [
    "#Problem 3\n",
    "\n",
    "plotName(\"Avery\")\n",
    "plotName(\"Semaj\")"
   ]
  },
  {
   "cell_type": "code",
   "execution_count": 95,
   "metadata": {
    "scrolled": true
   },
   "outputs": [
    {
     "data": {
      "text/html": [
       "<div>\n",
       "<style scoped>\n",
       "    .dataframe tbody tr th:only-of-type {\n",
       "        vertical-align: middle;\n",
       "    }\n",
       "\n",
       "    .dataframe tbody tr th {\n",
       "        vertical-align: top;\n",
       "    }\n",
       "\n",
       "    .dataframe thead th {\n",
       "        text-align: right;\n",
       "    }\n",
       "</style>\n",
       "<table border=\"1\" class=\"dataframe\">\n",
       "  <thead>\n",
       "    <tr style=\"text-align: right;\">\n",
       "      <th></th>\n",
       "      <th>year</th>\n",
       "      <th>num_names</th>\n",
       "    </tr>\n",
       "  </thead>\n",
       "  <tbody>\n",
       "    <tr>\n",
       "      <th>0</th>\n",
       "      <td>1880</td>\n",
       "      <td>1890.0</td>\n",
       "    </tr>\n",
       "    <tr>\n",
       "      <th>1</th>\n",
       "      <td>1881</td>\n",
       "      <td>1831.0</td>\n",
       "    </tr>\n",
       "    <tr>\n",
       "      <th>2</th>\n",
       "      <td>1882</td>\n",
       "      <td>2013.0</td>\n",
       "    </tr>\n",
       "    <tr>\n",
       "      <th>3</th>\n",
       "      <td>1883</td>\n",
       "      <td>1963.0</td>\n",
       "    </tr>\n",
       "    <tr>\n",
       "      <th>4</th>\n",
       "      <td>1884</td>\n",
       "      <td>2159.0</td>\n",
       "    </tr>\n",
       "  </tbody>\n",
       "</table>\n",
       "</div>"
      ],
      "text/plain": [
       "   year  num_names\n",
       "0  1880     1890.0\n",
       "1  1881     1831.0\n",
       "2  1882     2013.0\n",
       "3  1883     1963.0\n",
       "4  1884     2159.0"
      ]
     },
     "execution_count": 95,
     "metadata": {},
     "output_type": "execute_result"
    }
   ],
   "source": [
    "#Problem 4\n",
    "\n",
    "#A - 99444\n",
    "len(pd.unique(df['name']))\n",
    "\n",
    "#B - 2008 with 32,524 unique names\n",
    "unique_years = pd.unique(df['year'])\n",
    "unique_names = np.NaN * len(unique_years)\n",
    "uniques = pd.DataFrame(data={'year': unique_years, 'num_names': unique_names})\n",
    "uniques.loc[uniques['year'] == 1881, 'num_names'] = 55\n",
    "for year in uniques['year']:\n",
    "    num_names = len(pd.unique(df.where(df['year'] == year)['name']))\n",
    "    uniques.loc[uniques['year'] == year, 'num_names'] = num_names\n",
    "\n",
    "uniques.loc[uniques['num_names'] == max(uniques['num_names'])]\n",
    "\n",
    "#C - 1881 with 1,831 unique names \n",
    "uniques.loc[uniques['num_names'] == min(uniques['num_names'])]\n",
    "\n",
    "#D - \n",
    "unique_names = pd.unique(df['name'])\n",
    "name_pop = np.NaN * len(unique_names)\n",
    "name_pops = pd.DataFrame(data={'name': unique_names, 'pop': name_pop})\n",
    "for name in unique_names:\n",
    "    pop = np.average(df.loc[df['name'] == name]['prop'])\n",
    "    name_pops.loc[unique_names['name'] == name, 'pop'] = pop\n",
    "\n",
    "name_pops.loc[name_pops['frequency'] == max(name_pops[frequency])]"
   ]
  },
  {
   "cell_type": "code",
   "execution_count": null,
   "metadata": {},
   "outputs": [],
   "source": [
    "unique_names = pd.unique(df['name'])\n",
    "name_pop = np.NaN * len(unique_names)\n",
    "name_pops = pd.DataFrame(data={'year': unique_names, 'pop': name_pop})\n",
    "for name in unique_names:\n",
    "    pop = np.average(df.loc[df['name'] == name]['prop'])\n",
    "    name_pops.loc[unique_names['name'] == name, 'pop'] = pop\n",
    "\n",
    "name_pops.loc[name_pops['frequency'] == max(name_pops[frequency])]"
   ]
  },
  {
   "cell_type": "markdown",
   "metadata": {},
   "source": [
    "## Part 2"
   ]
  },
  {
   "cell_type": "code",
   "execution_count": null,
   "metadata": {},
   "outputs": [],
   "source": [
    "# urls for part 2 \n",
    "url2a = 'https://en.wikipedia.org/wiki/List_of_earthquakes_2001%E2%80%932010'\n",
    "url2b = 'https://en.wikipedia.org/wiki/List_of_earthquakes_2011%E2%80%932020'"
   ]
  }
 ],
 "metadata": {
  "kernelspec": {
   "display_name": "Python 3",
   "language": "python",
   "name": "python3"
  },
  "language_info": {
   "codemirror_mode": {
    "name": "ipython",
    "version": 3
   },
   "file_extension": ".py",
   "mimetype": "text/x-python",
   "name": "python",
   "nbconvert_exporter": "python",
   "pygments_lexer": "ipython3",
   "version": "3.8.5"
  }
 },
 "nbformat": 4,
 "nbformat_minor": 4
}
